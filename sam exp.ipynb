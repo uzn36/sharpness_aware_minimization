{
 "cells": [
  {
   "cell_type": "code",
   "execution_count": 1,
   "id": "b59bec79",
   "metadata": {},
   "outputs": [],
   "source": [
    "from sam import SAM\n",
    "from utility.step_lr import StepLR\n",
    "from wide_res_net import WideResNet\n",
    "from utility.initialize import initialize\n",
    "from utility.step_lr import StepLR\n",
    "from utility.bypass_bn import enable_running_stats, disable_running_stats\n",
    "from smooth_cross_entropy import smooth_crossentropy\n",
    "from utility.log import Log"
   ]
  },
  {
   "cell_type": "code",
   "execution_count": 2,
   "id": "40c3f02a",
   "metadata": {},
   "outputs": [],
   "source": [
    "import torch\n",
    "import torch.nn as nn\n",
    "import torch.optim as optim\n",
    "from torch.utils.data import DataLoader\n",
    "\n",
    "import torchvision.utils\n",
    "import torchvision.datasets as dsets\n",
    "import torchvision.transforms as transforms\n",
    "\n",
    "import numpy as np\n",
    "import random\n",
    "import os\n",
    "\n",
    "import matplotlib.pyplot as plt\n",
    "%matplotlib inline"
   ]
  },
  {
   "cell_type": "code",
   "execution_count": 3,
   "id": "35310b85",
   "metadata": {},
   "outputs": [
    {
     "name": "stdout",
     "output_type": "stream",
     "text": [
      "Files already downloaded and verified\n",
      "Files already downloaded and verified\n"
     ]
    }
   ],
   "source": [
    "train_data = dsets.CIFAR10(root='data/',\n",
    "                         train=True,\n",
    "                         transform=transforms.ToTensor(),\n",
    "                         download=True)\n",
    "\n",
    "test_data = dsets.CIFAR10(root='data/',\n",
    "                        train=False,\n",
    "                        transform=transforms.ToTensor(),\n",
    "                        download=True)"
   ]
  },
  {
   "cell_type": "code",
   "execution_count": 4,
   "id": "7f1c979e",
   "metadata": {},
   "outputs": [],
   "source": [
    "device = torch.device(\"cuda:0\" if torch.cuda.is_available() else \"cpu\")"
   ]
  },
  {
   "cell_type": "code",
   "execution_count": 14,
   "id": "dafa2ed2",
   "metadata": {},
   "outputs": [],
   "source": [
    "model = WideResNet(16, 8, 0.0, in_channels = 3, labels = 10).to(device)"
   ]
  },
  {
   "cell_type": "code",
   "execution_count": 15,
   "id": "4ccf91fe",
   "metadata": {},
   "outputs": [],
   "source": [
    "base_optimizer = torch.optim.SGD\n",
    "optimizer = SAM(model.parameters(), base_optimizer, rho=2.0, adaptive=True, lr=0.1, momentum=0.9, weight_decay=0.0005)"
   ]
  },
  {
   "cell_type": "code",
   "execution_count": 17,
   "id": "8ed4f427",
   "metadata": {},
   "outputs": [],
   "source": [
    "scheduler = StepLR(optimizer,0.1, 200)"
   ]
  },
  {
   "cell_type": "code",
   "execution_count": 18,
   "id": "fd94e660",
   "metadata": {},
   "outputs": [],
   "source": [
    "log = Log(log_each=10)"
   ]
  },
  {
   "cell_type": "code",
   "execution_count": 20,
   "id": "d891fd3b",
   "metadata": {},
   "outputs": [],
   "source": [
    "batch_size = 128\n",
    "\n",
    "train_loader = DataLoader(dataset=train_data,\n",
    "                          batch_size=batch_size,\n",
    "                          shuffle=True)\n",
    "\n",
    "test_loader = DataLoader(dataset=test_data,\n",
    "                         batch_size=batch_size,\n",
    "                         shuffle=False)"
   ]
  },
  {
   "cell_type": "code",
   "execution_count": 21,
   "id": "b62073b5",
   "metadata": {},
   "outputs": [
    {
     "name": "stdout",
     "output_type": "stream",
     "text": [
      "┏━━━━━━━━━━━━━━┳━━━━━━━╸T╺╸R╺╸A╺╸I╺╸N╺━━━━━━━┳━━━━━━━╸S╺╸T╺╸A╺╸T╺╸S╺━━━━━━━┳━━━━━━━╸V╺╸A╺╸L╺╸I╺╸D╺━━━━━━━┓\n",
      "┃              ┃              ╷              ┃              ╷              ┃              ╷              ┃\n",
      "┃       epoch  ┃        loss  │    accuracy  ┃        l.r.  │     elapsed  ┃        loss  │    accuracy  ┃\n",
      "┠──────────────╂──────────────┼──────────────╂──────────────┼──────────────╂──────────────┼──────────────┨\n",
      "┃           0  ┃      1.1412  │     45.21 %  ┃   1.000e-01  │   01:19 min  ┃┈░┈┈┈┈┈┈┈┈┈┈┈┈┈┈┈┈┈┈┈┈┈┈┈┈┈┈┈┨      0.9705  │     53.03 %  ┃\n",
      "┃           1  ┃      0.7107  │     67.71 %  ┃   1.000e-01  │   01:19 min  ┃┈░┈┈┈┈┈┈┈┈┈┈┈┈┈┈┈┈┈┈┈┈┈┈┈┈┈┈┈┨      0.6642  │     70.14 %  ┃\n",
      "┃           2  ┃      0.5217  │     77.47 %  ┃   1.000e-01  │   01:20 min  ┃┈░┈┈┈┈┈┈┈┈┈┈┈┈┈┈┈┈┈┈┈┈┈┈┈┈┈┈┈┨      0.5884  │     73.68 %  ┃\n",
      "┃           3  ┃      0.4131  │     82.50 %  ┃   1.000e-01  │   01:18 min  ┃┈░┈┈┈┈┈┈┈┈┈┈┈┈┈┈┈┈┈┈┈┈┈┈┈┈┈┈┈┨      0.5264  │     77.02 %  ┃\n",
      "┃           4  ┃      0.3471  │     85.56 %  ┃   1.000e-01  │   01:19 min  ┃┈░┈┈┈┈┈┈┈┈┈┈┈┈┈┈┈┈┈┈┈┈┈┈┈┈┈┈┈┨      0.4071  │     82.44 %  ┃\n",
      "┃           5  ┃      0.2991  │     87.88 %  ┃   1.000e-01  │   01:20 min  ┃┈░┈┈┈┈┈┈┈┈┈┈┈┈┈┈┈┈┈┈┈┈┈┈┈┈┈┈┈┨      0.4412  │     80.89 %  ┃\n",
      "┃           6  ┃      0.2626  │     89.45 %  ┃   1.000e-01  │   01:19 min  ┃┈░┈┈┈┈┈┈┈┈┈┈┈┈┈┈┈┈┈┈┈┈┈┈┈┈┈┈┈┨      0.3936  │     83.19 %  ┃\n",
      "┃           7  ┃      0.2284  │     91.22 %  ┃   1.000e-01  │   01:20 min  ┃┈░┈┈┈┈┈┈┈┈┈┈┈┈┈┈┈┈┈┈┈┈┈┈┈┈┈┈┈┨      0.4624  │     80.18 %  ┃\n",
      "┃           8  ┃      0.2074  │     92.12 %  ┃   1.000e-01  │   01:18 min  ┃┈░┈┈┈┈┈┈┈┈┈┈┈┈┈┈┈┈┈┈┈┈┈┈┈┈┈┈┈┨      0.4303  │     80.80 %  ┃\n",
      "┃           9  ┃      0.1837  │     93.08 %  ┃   1.000e-01  │   01:18 min  ┃┈░┈┈┈┈┈┈┈┈┈┈┈┈┈┈┈┈┈┈┈┈┈┈┈┈┈┈┈┨      0.3873  │     83.45 %  ┃\n",
      "┃          10  ┃      0.1674  │     93.96 %  ┃   1.000e-01  │   01:18 min  ┃┈░┈┈┈┈┈┈┈┈┈┈┈┈┈┈┈┈┈┈┈┈┈┈┈┈┈┈┈┨      0.3969  │     82.46 %  ┃\n",
      "┃          11  ┃      0.1485  │     94.89 %  ┃   1.000e-01  │   01:18 min  ┃┈░┈┈┈┈┈┈┈┈┈┈┈┈┈┈┈┈┈┈┈┈┈┈┈┈┈┈┈┨      0.3262  │     85.35 %  ┃\n",
      "┃          12  ┃      0.1380  │     95.41 %  ┃   1.000e-01  │   01:18 min  ┃┈░┈┈┈┈┈┈┈┈┈┈┈┈┈┈┈┈┈┈┈┈┈┈┈┈┈┈┈┨      0.3474  │     84.78 %  ┃\n",
      "┃          13  ┃      0.1266  │     95.90 %  ┃   1.000e-01  │   01:18 min  ┃┈░┈┈┈┈┈┈┈┈┈┈┈┈┈┈┈┈┈┈┈┈┈┈┈┈┈┈┈┨      0.3302  │     85.80 %  ┃\n",
      "┃          14  ┃      0.1138  │     96.46 %  ┃   1.000e-01  │   01:18 min  ┃┈░┈┈┈┈┈┈┈┈┈┈┈┈┈┈┈┈┈┈┈┈┈┈┈┈┈┈┈┨      0.3400  │     85.04 %  ┃\n",
      "┃          15  ┃      0.1100  │     96.55 %  ┃   1.000e-01  │   01:18 min  ┃┈░┈┈┈┈┈┈┈┈┈┈┈┈┈┈┈┈┈┈┈┈┈┈┈┈┈┈┈┨      0.3447  │     85.49 %  ┃\n",
      "┃          16  ┃      0.1012  │     97.03 %  ┃   1.000e-01  │   01:18 min  ┃┈░┈┈┈┈┈┈┈┈┈┈┈┈┈┈┈┈┈┈┈┈┈┈┈┈┈┈┈┨      0.3557  │     84.96 %  ┃\n",
      "┃          17  ┃      0.0975  │     97.22 %  ┃   1.000e-01  │   01:18 min  ┃┈░┈┈┈┈┈┈┈┈┈┈┈┈┈┈┈┈┈┈┈┈┈┈┈┈┈┈┈┨      0.3059  │     86.55 %  ┃\n",
      "┃          18  ┃      0.0955  │     97.29 %  ┃   1.000e-01  │   01:18 min  ┃┈░┈┈┈┈┈┈┈┈┈┈┈┈┈┈┈┈┈┈┈┈┈┈┈┈┈┈┈┨      0.3669  │     84.01 %  ┃\n",
      "┃          19  ┃      0.0901  │     97.48 %  ┃   1.000e-01  │   01:20 min  ┃┈░┈┈┈┈┈┈┈┈┈┈┈┈┈┈┈┈┈┈┈┈┈┈┈┈┈┈┈┨"
     ]
    }
   ],
   "source": [
    "for epoch in range(20):\n",
    "    model.train()\n",
    "    log.train(len_dataset=len(train_data))\n",
    "    for i, (batch_images, batch_labels) in enumerate(train_loader):\n",
    "        inputs = batch_images.to(device)\n",
    "        targets = batch_labels.to(device) \n",
    "        \n",
    "        # first forward-backward step\n",
    "        enable_running_stats(model)#momentum을 backup momentum으로\n",
    "        predictions = model(inputs)#w_t\n",
    "        loss = smooth_crossentropy(predictions, targets, smoothing=0.1)\n",
    "        loss.mean().backward()#w_t의 grad를 구했다\n",
    "\n",
    "        optimizer.first_step(zero_grad=True) #w -> w_adv이동, w_t에서의 param은 old_p에 저장\n",
    "\n",
    "        # second forward-backward step\n",
    "        disable_running_stats(model) #momentum backup하고 module.momentum = 0으로 만들어줌.\n",
    "        smooth_crossentropy(model(inputs), targets, smoothing=0.1).mean().backward()#w_adv에서의 grad 구했다\n",
    "        optimizer.second_step(zero_grad=True)#저장해둔 old_p 가져와서 SGD 한step 진행시킴.\n",
    "\n",
    "        with torch.no_grad():\n",
    "            correct = torch.argmax(predictions.data, 1) == targets\n",
    "            log(model, loss.cpu(), correct.cpu(), scheduler.lr())\n",
    "            scheduler(epoch)\n",
    "\n",
    "    model.eval()\n",
    "    log.eval(len_dataset=len(train_data))\n",
    "\n",
    "    with torch.no_grad():\n",
    "        for i, (batch_images, batch_labels) in enumerate(test_loader):\n",
    "        #for batch in dataset.test:\n",
    "            inputs = batch_images.to(device)\n",
    "            targets = batch_labels.to(device) \n",
    "\n",
    "            predictions = model(inputs)\n",
    "            loss = smooth_crossentropy(predictions, targets)\n",
    "            correct = torch.argmax(predictions, 1) == targets\n",
    "            log(model, loss.cpu(), correct.cpu())\n"
   ]
  }
 ],
 "metadata": {
  "kernelspec": {
   "display_name": "Python 3",
   "language": "python",
   "name": "python3"
  },
  "language_info": {
   "codemirror_mode": {
    "name": "ipython",
    "version": 3
   },
   "file_extension": ".py",
   "mimetype": "text/x-python",
   "name": "python",
   "nbconvert_exporter": "python",
   "pygments_lexer": "ipython3",
   "version": "3.8.8"
  }
 },
 "nbformat": 4,
 "nbformat_minor": 5
}
